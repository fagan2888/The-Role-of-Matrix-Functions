{
 "cells": [
  {
   "cell_type": "markdown",
   "metadata": {},
   "source": [
    "\n",
    "<br>\n",
    "# The Role of Matrix Functions\n",
    "\n",
    "<br>\n",
    "<div style=\"text-align:center\">**Numerical Algorithms Group, August 2018**</div>\n",
    "\n",
    "<br>\n",
    "In this notebook we'll be discussing functions of matrices. What are they, and why might they be of interest to you? We'll be using the [NAG Library for _Python_](https://www.nag.co.uk/nag-library-python) to provide examples. If you have your own installation of the NAG Library for _Python_ then feel free to try your own experiments by editing the code snippets below and rerunning them.\n",
    "\n",
    "\n",
    "\n",
    "Let's use the example of transition matrices from finance to set the scene. Suppose the vectors $v_n$ represent some quantities of interest at time $n$. For example, each entry might be a credit rating or a stock price, and $n$ might denote values obtained at the end of a particular year.\n",
    "\n",
    "    \n",
    "In a Markov model, the values of $v_n$ from one year to the next are related by the equation $v_{n+1}=Pv_n$, where $P$ is the <span style=\"color:firebrick\">**transition matrix**</span>.\n",
    "\n",
    "\n",
    "For example, here is a 1-year transition matrix for credit states obtained from [Moody's Investment Services](https://www.moodys.com/):\n",
    "\n",
    "$$ \n",
    "P=\\left[\\begin{array}{cccccccc}\n",
    "   0.8973 & 0.0976 & 0.0048 & 0 & 0.0003 & 0 & 0 & 0 \\\\\n",
    "   0.0092 & 0.8887 & 0.0964 & 0.0036 & 0.0015 & 0.0002 & 0 & 0.0004\\\\\n",
    "   0.0008 & 0.0224 & 0.9059 & 0.0609 & 0.0077 & 0.0021 & 0 & 0.0002 \\\\\n",
    "   0.0008 & 0.0037 & 0.0602 & 0.8545 & 0.0648 & 0.0013 & 0.0011 & 0.0019 \\\\\n",
    "   0.0003 & 0.0008 & 0.0046 & 0.0402 & 0.8566 & 0.0788 & 0.0047 & 0.0014 \\\\\n",
    "   0.0001 & 0.0004 & 0.0016 & 0.0053 & 0.0586 & 0.8406 & 0.0274 & 0.0066 \\\\\n",
    "   0 & 0 & 0 & 0.0001 & 0.0279 & 0.0538 & 0.6548 & 0.2535 \\\\\n",
    "   0 & 0 & 0 & 0 & 0 & 0 & 0 & 1.0000\n",
    "\\end{array}\\right].\n",
    "$$\n",
    "\n",
    "What if we want to know the 6-month transition matrix? Is there anyway of obtaining it from the data above? Well after a little thought, you might be able to persuade yourself that we are after somethimg like the square root of $P$, namely $P^{1/2}$. But is this even defined, and if so how do we compute it? Is it unique? Could we similarly compute things like $P^{0.6}$?\n",
    "\n",
    "\n",
    "The example above gives a motivation for computing non-integer powers of matrices. It is natural to then think about more general functions like $\\exp$, $\\log$, $\\sin$ or $\\cos$. Can we compute them? Do they have any uses? Welcome to the wonderful world of matrix functions!\n",
    "\n",
    "<br>\n",
    "## Defining a matrix function\n",
    "\n",
    "Perhaps the most intuitive way of defining matrix functions is using Taylor series (various other equivalent definitions also exist). Recall that for a scalar, $x$,\n",
    "\n",
    "$$e^x = 1 + x + \\frac{x^2}{2!} + \\frac{x^3}{3!} + \\cdots .$$\n",
    "\n",
    "For an $n$-by-$n$ matrix, $A$, we can define the <span style=\"color:firebrick\">**matrix exponential**</span> in a similar way:\n",
    "  \n",
    "  \n",
    "  $$e^A = I + A + \\frac{A^2}{2!} + \\frac{A^3}{3!} + \\cdots .$$\n",
    "\n",
    "Functions such as $\\sin A$, $\\cos A$, $\\sinh A$, $\\cosh A$ can similarly be defined via their Taylor expansions. Convergence is guaranteed provided the scalar Taylor series converges at the eigenvalues of $A$.\n",
    "\n",
    "<br>\n",
    "### Matrix powers and logarithms\n",
    "\n",
    "Non-integer matrix powers and matrix logarithms are a little more involved because they are multivalued:\n",
    "\n",
    "\n",
    "* <span style=\"color:black\">any solution to $e^A=A$ is a logarithm of $A$,</span>\n",
    "* <span style=\"color:black\">any solution to $X^p=A$ is a $p$th root of $A$.</span>\n",
    "    \n",
    "    \n",
    "For example, $\\left(\\begin{array}{cc}2 & 0 \\\\ 0 & 2\\end{array}\\right)$ and $\\left(\\begin{array}{cc}-2 & 0 \\\\ 0 & 2\\end{array}\\right)$ are both square roots of $\\left(\\begin{array}{cc}4 & 0 \\\\ 0 & 4\\end{array}\\right)$.\n",
    "\n",
    "\n",
    "However, provided $A$ has no eigenvalues on $\\mathbb{R}^-$ we can define:\n",
    "* <span style=\"color:black\">a unique</span> <span style=\"color:firebrick\">**principal logarithm**</span><span style=\"color:black\">, $\\log A$, with eigenvalues in $-\\pi<\\text{Im}(z)<\\pi$,</span>\n",
    "* <span style=\"color:black\">a unique  </span><span style=\"color:firebrick\">**principal $p$th root**</span><span style=\"color:black\">, $A^{1/p}$, with eigenvalues in $-\\pi/p<\\arg(z)<\\pi/p$.</span>\n",
    "\n",
    "If $A$ is real then so are $\\log A$ and $A^{1/p}$. General matrix powers can then be defined via $A^t = e^{ t\\log A}$.\n",
    "\n",
    "<br>\n",
    "### A quick example\n",
    "\n",
    "In the code snippet below, we use the [naginterfaces.library.matop](https://www.nag.co.uk/numeric/py/nagdoc_latest/naginterfaces.library.matop.html) submodule from the NAG Library for Python to compute the principal cube root of a matrix."
   ]
  },
  {
   "cell_type": "code",
   "execution_count": 1,
   "metadata": {
    "collapsed": false
   },
   "outputs": [
    {
     "name": "stdout",
     "output_type": "stream",
     "text": [
      "Cube root:\n",
      "[[  3.0000e+00   2.0000e+00   1.0000e+00]\n",
      " [  1.0000e+00   3.0000e+00   7.5809e-16]\n",
      " [  1.0000e+00   1.0000e+00   3.0000e+00]]\n",
      "\n",
      "Cubing the answer should give the original matrix:\n",
      "[[ 55.  69.  30.]\n",
      " [ 30.  46.   9.]\n",
      " [ 39.  48.  37.]]\n",
      "\n"
     ]
    }
   ],
   "source": [
    "import numpy as np\n",
    "import naginterfaces.library as ni\n",
    "from naginterfaces.library import matop as ni_matop\n",
    "np.set_printoptions(precision=4)\n",
    "\"Define a matrix\"\n",
    "P = np.array([[55.0, 69.0, 30.0],\n",
    "              [30.0, 46.0,  9.0],\n",
    "              [39.0, 48.0, 37.0]])\n",
    "cbrtP = ni_matop.real_gen_matrix_pow(P, 1.0/3.0)\n",
    "print(\"Cube root:\\n{}\\n\".format(cbrtP))\n",
    "print(\"Cubing the answer should give the original matrix:\\n{}\\n\".format(cbrtP @ cbrtP @ cbrtP))"
   ]
  },
  {
   "cell_type": "markdown",
   "metadata": {},
   "source": [
    "## Applications\n",
    "We now know how to define a variety of matrix functions, but are they actually useful? Lets look at some applications.\n",
    "\n",
    "\n",
    "\n",
    "<br>\n",
    "\n",
    "### Complex networks\n",
    "\n",
    "Network are sets of <span style=\"color:firebrick\">**nodes**</span> linked by <span style=\"color:firebrick\">**edges**</span>. Examples include maps (in which the nodes and edges are towns and roads respectively) and social networks (in which the nodes and edges represent people and their connections). A network can be represented using an <span style=\"color:firebrick\">**adjacency matrix**</span>. For example, here is a network, and its adjacency matrix:\n",
    "    \n",
    "<img src=\"network.png\" width=15% align=\"left\"> \n",
    "\n",
    "\n",
    "<span style=\"opacity: 0.0\">.</span> $$A=\\left[\\begin{array}{rrrr} \n",
    "    0 & 1 & 1 & 1 \\\\\n",
    "    1 & 0 & 0 & 1 \\\\\n",
    "    1 & 0 & 0 & 1 \\\\\n",
    "    1 & 1 & 1 & 0\n",
    "    \\end{array}\\right].\n",
    "    $$\n",
    "    \n",
    "<br><br><br>\n",
    "\n",
    "When studying networks, we often wish to determine which nodes are the most important, and how well different nodes are connected. Matrix functions can help us here.\n",
    "\n",
    "* The importance of node $i$ is known as the <span style=\"color:firebrick\">**node centrality**</span>. A measure of node centrality is given by $(e^A)_{ii}$.\n",
    "\n",
    "* Similarly a measure of how well nodes $i$ and $j$  are connected is given by $(e^A)_{ij}$. This is known as the <span style=\"color:firebrick\">**node communicability**</span>.\n",
    "\n",
    "In the code below, we use the NAG Library function [real_gen_matrix_exp](https://www.nag.co.uk/numeric/py/nagdoc_latest/naginterfaces.library.matop.html#naginterfaces.library.matop.real_gen_matrix_exp) to compute $e^A$ for the adjacency matrix above. Perusing the output suggests that nodes 1 and 4 are the most important (they have the largest node centralities, the diagonal elements) and also the greatest communicability (the $(1,4)$ element of $e^A$ is the largest of the off-diagonal elements). This agrees with what we might expect from looking at the graphical representation of the network."
   ]
  },
  {
   "cell_type": "code",
   "execution_count": 2,
   "metadata": {
    "collapsed": false
   },
   "outputs": [
    {
     "name": "stdout",
     "output_type": "stream",
     "text": [
      "Matrix exponential:\n",
      "[[ 4.2482  3.0914  3.0914  3.8803]\n",
      " [ 3.0914  3.0186  2.0186  3.0914]\n",
      " [ 3.0914  2.0186  3.0186  3.0914]\n",
      " [ 3.8803  3.0914  3.0914  4.2482]]\n",
      "\n"
     ]
    }
   ],
   "source": [
    "A = np.array([[0., 1., 1., 1.],\n",
    "            [1., 0., 0., 1.],\n",
    "            [1., 0., 0., 1.],\n",
    "            [1., 1., 1., 0.]])\n",
    "expA = ni_matop.real_gen_matrix_exp(A)\n",
    "print(\"Matrix exponential:\\n{}\\n\".format(expA))"
   ]
  },
  {
   "cell_type": "markdown",
   "metadata": {},
   "source": [
    "### Differential equations\n",
    "\n",
    "An important application of matrix functions is in the solution of differential equations, which are ubiquitous throughout mathematics and the sciences. Consider the equation\n",
    "\n",
    "$$\\frac{d^2y}{dt^2}+Ay=0,\\quad y(0)=y_0, \\quad y'(0)=y'_0,$$\n",
    "\n",
    "where $y$ is a vector and $A$ a square matrix. Its solution can be written, using the matrix sine, cosine and square root, as\n",
    "\n",
    "$$y(t) = \\cos(\\sqrt{A}t)y_0 + \\sqrt{A}^{-1}\\sin(\\sqrt{A}t)y'_0.$$\n",
    "\n",
    "Alternatively, the solution can be written in terms of the exponential of a larger matrix:\n",
    "\n",
    "$$\\left[\\begin{array}{l}y \\\\ y'\\end{array}\\right] = \\exp\\left(\\left[\\begin{array}{cc} 0 & -tA \\\\ tI_n & 0\\end{array}\\right]\\right)\\left[\\begin{array}{l}y_0 \\\\ y'_0\\end{array}\\right].$$\n",
    "\n",
    "We will return to this second form of the solution later.\n",
    "\n",
    "<br>\n",
    "### Further comments\n",
    "\n",
    "Markov chains are an important application of matrix functions. We encountered them earlier when we considered the roots of transition matrices. However, there is an important subtlety that we did not consider. Transition matrices are <span style=\"color:firebrick\">**stochastic**</span>; that is they are non-negative, with unit row sums. Under what conditions are the matrix roots of a transition matrix themselves stochastic? This is acutally an unsolved problem.\n",
    "\n",
    "The matrix exponential also has an application in Markov chains. The transition matrix $P$ for a timestep $t$ can be written as $P=e^{Qt}$, where $Q$ is known as the transition intensity matrix. For $P$ to be stochastic, $Q$ must have vanishing row sums. Given a stochastic $P$, does such a $Q$ exist? This is known as the embeddability problem, and it is also still unsolved.\n",
    "\n",
    "Other applications of matrix functions include nuclear magnetic resonance spectroscopy, control theory, optics, computer graphics and particle physics.\n",
    "\n",
    "<br>\n",
    "## How to evaluate matrix functions\n",
    "\n",
    "Before discussing how we compute functions of matrices it is useful to know a little bit of theory.\n",
    "\n",
    "Sometimes matrix functions behave like scalar functions. For example, the identities $e^{\\log A} = A$ and $\\sin^2A+\\cos^2A=I$ apply to matrices as well as to scalars. But sometimes matrix functions do not behave like scalar functions. For example, in general $e^{A+B} \\ne e^Ae^B $ and $\\log(e^A) \\ne A$.\n",
    "    \n",
    "There are some extra properties that apply specifically to matrices. For example $f(A^T)=f(A)^T$. In addition, similarity transformations can easily be applied to matrix functions: if $A=VD V^{-1}$ then $f(A)=Vf(D)V^{-1}$. In particular, this means that if the eigenvalues of $A$ are $\\lambda_i$ then the eigenvalues of $f(A)$ are $f(\\lambda_i)$.\n",
    "\n",
    "\n",
    "### Can we evaluate matrix functions using similarity transformations?\n",
    "\n",
    "The similarity transformation property suggests a possible method to compute matrix functions. Could we diagonalize, $A = VD V^{-1}$, and use $f(A) = Vf(D)V^{-1}$? Afterall, $D$ is diagonal so we need only apply $f$ to the diagonal elements. The code snippet below does just this. Note that we use the SciPy routine linalg.solve to increase numerical stability by avoiding explicit computation of $V^{-1}$."
   ]
  },
  {
   "cell_type": "code",
   "execution_count": 3,
   "metadata": {
    "collapsed": false
   },
   "outputs": [
    {
     "name": "stdout",
     "output_type": "stream",
     "text": [
      "Square root:\n",
      "[[ 0.75+0.j  0.25+0.j]\n",
      " [-0.25-0.j  1.25+0.j]]\n",
      "\n",
      "Residual: 1.118e-08\n"
     ]
    }
   ],
   "source": [
    "from scipy import linalg\n",
    "A = np.array([[ 0.5, 0.5],\n",
    "              [-0.5, 1.5]])\n",
    "D, V = linalg.eig(A)\n",
    "sqrtA = linalg.solve(V.T, np.diag(np.sqrt(D)) @ V.T).T\n",
    "print(\"Square root:\\n{}\\n\".format(sqrtA))\n",
    "print(\"Residual: {:1.3e}\".format(linalg.norm(sqrtA @ sqrtA - A)))"
   ]
  },
  {
   "cell_type": "markdown",
   "metadata": {},
   "source": [
    "The residual of ${\\sim}10^{-8}$ might seem small but recall that unit roundoff in double precision arithmetic is ${\\sim}10^{-16}$ so we might expect to do better. The problem here is that in exact arithmetic $A$ is not actually diagonalizable. This results in a very poorly conditioned transformation matrix $V$.\n",
    "\n",
    "The NAG Library routine for computing square roots of a real matrix is called [real_gen_matrix_sqrt](https://www.nag.co.uk/numeric/py/nagdoc_latest/naginterfaces.library.matop.html#naginterfaces.library.matop.real_gen_matrix_sqrt). Rather than diagonalizing, it uses a similarity transformation called a Schur decomposition, which is numerically more stable."
   ]
  },
  {
   "cell_type": "code",
   "execution_count": 4,
   "metadata": {
    "collapsed": false
   },
   "outputs": [
    {
     "name": "stdout",
     "output_type": "stream",
     "text": [
      "Square root computed by NAG routine:\n",
      "[[ 0.75  0.25]\n",
      " [-0.25  1.25]]\n",
      "\n",
      "Residual: 2.989e-16\n"
     ]
    }
   ],
   "source": [
    "sqrtA = ni_matop.real_gen_matrix_sqrt(A)\n",
    "print(\"Square root computed by NAG routine:\\n{}\\n\".format(sqrtA))\n",
    "print(\"Residual: {:1.3e}\".format(linalg.norm(sqrtA @ sqrtA - A)))"
   ]
  },
  {
   "cell_type": "markdown",
   "metadata": {},
   "source": [
    "Using [real_gen_matrix_sqrt](https://www.nag.co.uk/numeric/py/nagdoc_latest/naginterfaces.library.matop.html#naginterfaces.library.matop.real_gen_matrix_sqrt) gave a far smaller residual.\n",
    "\n",
    "The definitions we introduced earlier suggest an alternative way of evaluating matrix functions: Taylor series.\n",
    "\n",
    "<br>\n",
    "### Can we evaluate matrix functions using Taylor series?\n",
    "\n",
    "The code below computes $\\sin A$ and $\\cos A$ by summing the first 100 terms in their respective Taylor series (the $100^{th}$ term is already far smaller than machine precision so adding extra terms won't help us here). The code then checks whether the identity $\\sin^2A+\\cos^2A=I$ holds.\n"
   ]
  },
  {
   "cell_type": "code",
   "execution_count": 5,
   "metadata": {
    "collapsed": false
   },
   "outputs": [
    {
     "name": "stdout",
     "output_type": "stream",
     "text": [
      "sin^2 A + cos^2 A:\n",
      "[[  1.0000e+00  -6.0594e-10]\n",
      " [  1.1036e-09   1.0000e+00]]\n",
      "\n",
      "||sin^2 A + cos^2 A - I|| = 1.702e-09\n"
     ]
    }
   ],
   "source": [
    "A = np.array([[  6.0, 15.4],\n",
    "            [ 15.3,  0.0]])\n",
    "Atemp = -A @ A/2; cosA=np.eye(2); sinA = np.copy(A)\n",
    "for i in range(2,100,2):\n",
    "    cosA = cosA + Atemp\n",
    "    sinA = sinA + Atemp @ A/(i+1)\n",
    "    Atemp = -Atemp @ A @ A/((i+1)*(i+2))\n",
    "print(\"sin^2 A + cos^2 A:\\n{}\\n\".format(sinA @ sinA + cosA @ cosA))\n",
    "print(\"||sin^2 A + cos^2 A - I|| = {:1.3e}\".format(linalg.norm(sinA @ sinA + cosA @ cosA-np.eye(2))))"
   ]
  },
  {
   "cell_type": "markdown",
   "metadata": {},
   "source": [
    "Again, the residual of ${\\sim}10^{-9}$ is large in comparison with unit roundoff. Can NAG's routines do any better?"
   ]
  },
  {
   "cell_type": "code",
   "execution_count": 6,
   "metadata": {
    "collapsed": false
   },
   "outputs": [
    {
     "name": "stdout",
     "output_type": "stream",
     "text": [
      "sin^2 A + cos^2 A:\n",
      "[[  1.0000e+00  -1.1102e-16]\n",
      " [ -8.3267e-17   1.0000e+00]]\n",
      "\n",
      "||sin^2 A + cos^2 A - I|| = 1.777e-16\n"
     ]
    }
   ],
   "source": [
    "sinA, imnorm1 = ni_matop.real_gen_matrix_fun_std('SIN', A)\n",
    "cosA, imnorm2 = ni_matop.real_gen_matrix_fun_std('COS', A)\n",
    "print(\"sin^2 A + cos^2 A:\\n{}\\n\".format(sinA @ sinA+cosA @ cosA))\n",
    "print(\"||sin^2 A + cos^2 A - I|| = {:1.3e}\".format(linalg.norm(sinA @ sinA + cosA @ cosA-np.eye(2))))"
   ]
  },
  {
   "cell_type": "markdown",
   "metadata": {},
   "source": [
    "In the code above we used [real_gen_matrix_fun_std](https://www.nag.co.uk/numeric/py/nagdoc_latest/naginterfaces.library.matop.html#naginterfaces.library.matop.real_gen_matrix_fun_std), which is a general purpose routine for computing various matrix functions. It is based on Taylor expansions but uses various additional [tricks](https://epubs.siam.org/doi/abs/10.1137/S0895479802410815) to improve the accuracy of the result.\n",
    "\n",
    "### So how do we evaluate matrix functions?\n",
    "\n",
    "The state-of-the-art algorithms in the NAG Library use a variety of techniques depending on the function being computed. They are summarized in the bullet points below.\n",
    "\n",
    "\n",
    "\n",
    "* <span style=\"color:firebrick\">**Schur decomposition**</span><span style=\"color:black\">; $A = UTU^*$, where $T$ is triangular and $U$ unitary:</span>\n",
    "    * <span style=\"color:black\">this is a well-conditioned decomposition,</span>\n",
    "    * <span style=\"color:black\">it is cheaper to work with triangular matrices than full matrices.</span>\n",
    "\n",
    "\n",
    "* <span style=\"color:firebrick\">**Explicit formulae**</span><span style=\"color:black\">:</span>\n",
    "    * <span style=\"color:black\">these are available for diagonal and superdiagonal elements of $f(T)$, when $T$ is triangular,</span>\n",
    "    * <span style=\"color:black\">in addition a recursion can be used to compute the square root of triangular matrix.</span>\n",
    "\n",
    "\n",
    "* <span style=\"color:firebrick\">**Truncated Taylor series**</span><span style=\"color:black\">:</span>\n",
    "    * <span style=\"color:black\">the truncation is guided by some error analysis,</span>\n",
    "    * <span style=\"color:black\">expansion about the mean of the eigenvalues improves stability.</span>\n",
    "\n",
    "\n",
    "* <span style=\"color:firebrick\">**Pad&eacute; approximant**</span><span style=\"color:black\">; $f(x)\\approx p_m(x)/q_n(x)$ where $p_m$ and $q_n$ are polynomials of degree $m$ and $n$:</span>\n",
    "    * <span style=\"color:black\">for a given accuracy this can be cheaper than a truncated Taylor series (error analysis guides the choice of parameters $m$ and $n$),</span>\n",
    "    * <span style=\"color:black\">continued fraction and partial fraction representations of the approximant can also be useful.</span>\n",
    "    \n",
    "\n",
    "* <span style=\"color:firebrick\">**Scaling and squaring**</span><span style=\"color:black\">; we can exploit $e^A=(e^{A/s})^s$, where $s$ typically a power of 2:</span>\n",
    "    * <span style=\"color:black\">we choose $s$ (using *a priori* error analysis) so that $\\|A/s\\|$ is small, for a better Pad&eacute; approximant,</span>\n",
    "    * <span style=\"color:black\">similar formulae are available for other functions e.g. $\\log A = s\\log(A^{1/s})$.</span>"
   ]
  },
  {
   "cell_type": "markdown",
   "metadata": {},
   "source": [
    "## The action of the matrix exponential\n",
    "\n",
    "Let's return to the important area of differential equations. Finite difference or finite element discretizations of partial differential equations often lead to an ordinary differential equation of the form\n",
    "\n",
    "\n",
    "$$\\frac{dy}{dt}=Ay, \\quad y(0)=b.$$\n",
    "\n",
    "The solution is $y(t)= e^{tA}b$. (Recall that the solution to the differential equation we saw earlier could also be written in terms of the product of a matrix exponential with a vector.)\n",
    "\n",
    "\n",
    "In real-world applications $A$ is typically large and sparse. For example, a $500\\times500$ mesh in a PDE might yield a matrix with $n = 250000$, but only $0.002\\%$ nonzero entries. But $e^{tA}$ is, in general, dense. Explicity computing it for $n=250000$ would involve storing ~500 GB of data for the matrix alone, without even considering any temporary storage arrays we might need. Even with the best algorithms, this computation is prohibitively expensive. We are therefore left with the following task: can we evaluate $e^{tA}b$ without explicitly forming $e^{tA}$?\n",
    "\n",
    "<br>\n",
    "### Computing $e^{tA}b$: an example\n",
    "\n",
    "We will demonstrate how to use the NAG Library routine [real_gen_matrix_actexp_rcomm](https://www.nag.co.uk/numeric/py/nagdoc_latest/naginterfaces.library.matop.html#naginterfaces.library.matop.real_gen_matrix_actexp_rcomm) to compute $e^{tA}b$ without explicitly forming $e^{tA}$. It does this using only matrix-vector multiplications. The routine has a <span style=\"color:firebrick\">**reverse communication**</span> interface, meaning that it returns control to the calling program whenever a matrix-vector multiplication is required. This means that we are free to use any storage format we wish for the sparse matrix $A$.\n",
    "\n",
    "We begin by creating a random sparse matrix for our example, and setting up a few arrays that [real_gen_matrix_actexp_rcomm](https://www.nag.co.uk/numeric/py/nagdoc_latest/naginterfaces.library.matop.html#naginterfaces.library.matop.real_gen_matrix_actexp_rcomm) will use as workspace."
   ]
  },
  {
   "cell_type": "code",
   "execution_count": 7,
   "metadata": {
    "collapsed": false
   },
   "outputs": [],
   "source": [
    "from scipy import sparse\n",
    "\n",
    "# Declare the matrix size and generate A, b and t\n",
    "n = 45000\n",
    "A = sparse.rand(n,n,0.0002,'csr')\n",
    "b = np.ones((n,1))\n",
    "t = 0.8\n",
    "\n",
    "# Create the workspace arrays required by the reverse communication routine\n",
    "irevcm = int(0)\n",
    "b2 = np.zeros((n,1))\n",
    "x = np.zeros((n,2))\n",
    "y = np.zeros((n,2))\n",
    "p = np.zeros(n)\n",
    "r = np.zeros(n)\n",
    "z = np.zeros(n)\n",
    "comm = {}\n",
    "\n",
    "# We will count the number of matrix-vector multiplications\n",
    "count = 0\n"
   ]
  },
  {
   "cell_type": "markdown",
   "metadata": {},
   "source": [
    "The routine call itself is enclosed within a while loop. Depending on the value of the integer irevcm, we must compute various matrix products (as described in the [documentation for real_gen_matrix_exp_rcomm](https://www.nag.co.uk/numeric/py/nagdoc_latest/naginterfaces.library.matop.html#naginterfaces.library.matop.real_gen_matrix_actexp_rcomm) ) before calling the routine once more."
   ]
  },
  {
   "cell_type": "code",
   "execution_count": 8,
   "metadata": {
    "collapsed": false
   },
   "outputs": [
    {
     "name": "stdout",
     "output_type": "stream",
     "text": [
      "e^(tA)b = [[ 34.2889  12.8195  31.6273 ...,  58.4166  17.6513  32.7246]]\n",
      "\n",
      "Evaluation of e^(tA)b required 64 matrix-vector multiplications.\n"
     ]
    }
   ],
   "source": [
    "while True:\n",
    "    # Call the nag routine\n",
    "    irevcm = ni_matop.real_gen_matrix_actexp_rcomm(irevcm, b, t, b2, x, y, p, r, z, comm)\n",
    "    if irevcm == 0:\n",
    "        # If the routine exits with irevcm=0 then we are done\n",
    "        break\n",
    "    elif irevcm == 1:\n",
    "        b2 = A @ b\n",
    "    elif irevcm == 2:\n",
    "        y = A @ x\n",
    "    elif irevcm == 3:\n",
    "        x = A.T @ y\n",
    "    elif irevcm == 4:\n",
    "        p = A @ z\n",
    "    elif irevcm == 5:\n",
    "        r = A.T @ z\n",
    "    count = count + 1\n",
    "        \n",
    "print(\"e^(tA)b = {}\\n\".format(b.T))\n",
    "print(\"Evaluation of e^(tA)b required {} matrix-vector multiplications.\".format(count))"
   ]
  },
  {
   "cell_type": "markdown",
   "metadata": {},
   "source": [
    "## Sensitivity of matrix functions\n",
    "\n",
    "In linear algebra, whenever we compute something (be it the solution to a linear system, a set of eigenvalues, or a matrix function) it is useful to be able to measure how sensitive the result is to small perturbations in our initial data.\n",
    "\n",
    "Here is an example. In the code below, we've used [real_gen_matrix_log](https://www.nag.co.uk/numeric/py/nagdoc_latest/naginterfaces.library.matop.html#naginterfaces.library.matop.real_gen_matrix_log) to compute the logarithm of a matrix $A$."
   ]
  },
  {
   "cell_type": "code",
   "execution_count": 9,
   "metadata": {
    "collapsed": false
   },
   "outputs": [
    {
     "name": "stdout",
     "output_type": "stream",
     "text": [
      "log A:\n",
      "[[ 670.1324  669.223 ]\n",
      " [-669.2244 -668.3002]]\n"
     ]
    }
   ],
   "source": [
    "A = np.array([[-2.00011, 0.49945],\n",
    "              [-0.499451, -2.999]])\n",
    "logA, imnorm = ni_matop.real_gen_matrix_log(A)\n",
    "print(\"log A:\\n{}\".format(logA))"
   ]
  },
  {
   "cell_type": "markdown",
   "metadata": {},
   "source": [
    "Next, lets introduce a small perturbation, given by the matrix $E$, and compute $\\log(A+E)$."
   ]
  },
  {
   "cell_type": "code",
   "execution_count": 10,
   "metadata": {
    "collapsed": false
   },
   "outputs": [
    {
     "name": "stdout",
     "output_type": "stream",
     "text": [
      "log(A+E):\n",
      "[[ 2220.9356  2220.0195]\n",
      " [-2220.024  -2219.1034]]\n",
      "\n",
      "Relative size of perturbation in A: 2.722e-06\n",
      "Relative size of perturbation in log A: 2.317e+00\n"
     ]
    }
   ],
   "source": [
    "E = np.array([[0.00001, 0],\n",
    "              [0,       0]])\n",
    "A2 = A + E\n",
    "logA2, imnorm = ni_matop.real_gen_matrix_log(A2)\n",
    "print(\"log(A+E):\\n{}\\n\".format(logA2))\n",
    "print(\"Relative size of perturbation in A: {:1.3e}\".format(linalg.norm(E)/linalg.norm(A)))\n",
    "print(\"Relative size of perturbation in log A: {:1.3e}\".format(linalg.norm(logA-logA2)/linalg.norm(logA)))"
   ]
  },
  {
   "cell_type": "markdown",
   "metadata": {},
   "source": [
    " The logarithm of our new matrix $\\log(A+E)$ is very different from $\\log A$ - the perturbation had a very significant effect.\n",
    "\n",
    "\n",
    "The sensitivity to perturbations in our data is encapsulated by the <span style=\"color:firebrick\">**condition number**</span>. As a rule of thumb a condition number of $10^k$ may mean $k$ digits of accuracy are lost.\n",
    "\n",
    "A related concept is that of the <span style=\"color:firebrick\">**Fr&eacute;chet derivative**</span>, $L_f(A,E)$. The Fr&eacute;chet derivative of a matrix function tells us about changes in a particular direction:\n",
    "\n",
    "$$f(A+E)-f(A) = L_f(A,E)+o(\\|E\\|).$$\n",
    "\n",
    "The NAG Library contains routines for computing both Fr&eacute;chet derivatives and condition numbers of matrix functions. In this final code snippet, we use [real_gen_matrix_cond_log](https://www.nag.co.uk/numeric/py/nagdoc_latest/naginterfaces.library.matop.html#naginterfaces.library.matop.real_gen_matrix_cond_log) and [real_gen_matrix_frcht_log](https://www.nag.co.uk/numeric/py/nagdoc_latest/naginterfaces.library.matop.html#naginterfaces.library.matop.real_gen_matrix_frcht_log) to compute the condition number for the matrix logarithm and the Fr&eacute;chet derivative in the direction $E$ for the matrix $A$ that we defined above. The results confirm that the logarithm of $A$ is highly sensitive to small perturbations."
   ]
  },
  {
   "cell_type": "code",
   "execution_count": 11,
   "metadata": {
    "collapsed": false
   },
   "outputs": [
    {
     "name": "stdout",
     "output_type": "stream",
     "text": [
      "Condition number for the matrix logarithm: 2.213e+05\n",
      "\n",
      "Derivative of log(A) in the direction E, L_log(A, E):\n",
      "[[ 304.2851  304.2814]\n",
      " [-304.2821 -304.2851]]\n",
      "\n"
     ]
    }
   ],
   "source": [
    "logA, condla = ni_matop.real_gen_matrix_cond_log(A)\n",
    "print(\"Condition number for the matrix logarithm: {:1.3e}\\n\".format(condla))\n",
    "logA, L_log = ni_matop.real_gen_matrix_frcht_log(A, E)\n",
    "print(\"Derivative of log(A) in the direction E, L_log(A, E):\\n{}\\n\".format(L_log))"
   ]
  },
  {
   "cell_type": "markdown",
   "metadata": {},
   "source": [
    "## Summary\n",
    "\n",
    "Matrix functions have many applications, in part due to the succinct way they allow us to write down solutions to certain problems (such as differential equations). Sophisticated algorithms are available, using a variety of techniques. The best way to exploit such algorithms is to use a robust numerical library. Conditioning and stability is important consideration when computing matrix functions, particularly if there are uncertainties in your initial data.\n",
    "\n",
    "<br>\n",
    "### Further reading\n",
    "\n",
    "\n",
    "\n",
    "* <span style=\"color:black\">The NAG Library for _Python_ is available from:</span>\n",
    "\n",
    "    * [https://www.nag.com/nag-library-python](https://www.nag.com/nag-library-python).</span>\n",
    " \n",
    " \n",
    "* <span style=\"color:black\">The standard text for further information on matrix functions is:</span>\n",
    "\n",
    "    * <span style=\"color:black\">Functions of Matrices: Theory and Computation. SIAM, 2008. ISBN 9878-0-898716-46-7, by Nicholas J. Higham.</span>\n",
    "    \n",
    "    \n",
    "* <span style=\"color:black\">For questions and comments on matrix functions at NAG email **edvin.hopkins@nag.co.uk**.</span>"
   ]
  }
 ],
 "metadata": {
  "anaconda-cloud": {},
  "kernelspec": {
   "display_name": "Python [default]",
   "language": "python",
   "name": "python3"
  },
  "language_info": {
   "codemirror_mode": {
    "name": "ipython",
    "version": 3
   },
   "file_extension": ".py",
   "mimetype": "text/x-python",
   "name": "python",
   "nbconvert_exporter": "python",
   "pygments_lexer": "ipython3",
   "version": "3.5.2"
  },
  "livereveal": {
   "height": 868,
   "start_slideshow_at": "selected",
   "width": 1024
  },
  "nbpresent": {
   "slides": {
    "1750b204-3948-4055-961a-28e403c34d45": {
     "id": "1750b204-3948-4055-961a-28e403c34d45",
     "prev": "d13271a9-64b9-4c68-9bbe-90695af58672",
     "regions": {
      "ca87c654-b4d9-40b6-a45f-a6e18983cbf2": {
       "attrs": {
        "height": 0.8,
        "width": 0.8,
        "x": 0.1,
        "y": 0.1
       },
       "content": {
        "cell": "d477130b-e56d-4bab-b0bd-3a1ddf2c328d",
        "part": "whole"
       },
       "id": "ca87c654-b4d9-40b6-a45f-a6e18983cbf2"
      }
     }
    },
    "1987126a-5ef5-412e-9928-9c8d08045ba8": {
     "id": "1987126a-5ef5-412e-9928-9c8d08045ba8",
     "prev": "a7d10056-58bb-4c47-a55a-1afbd75aec25",
     "regions": {
      "cf839aea-78b6-4c13-b41b-68e7ee33cc06": {
       "attrs": {
        "height": 0.8,
        "width": 0.8,
        "x": 0.1,
        "y": 0.1
       },
       "content": {
        "cell": "3eadfa7e-67da-4128-89cc-641d720a8679",
        "part": "whole"
       },
       "id": "cf839aea-78b6-4c13-b41b-68e7ee33cc06"
      }
     }
    },
    "1d0d6a75-39e7-4be5-ae4e-4152e243553a": {
     "id": "1d0d6a75-39e7-4be5-ae4e-4152e243553a",
     "prev": "27e2acc3-d9b4-431c-8ad1-872a06af8d8b",
     "regions": {
      "f0051e25-adcd-4361-b7f6-d97e71c2c334": {
       "attrs": {
        "height": 0.8,
        "width": 0.8,
        "x": 0.1,
        "y": 0.1
       },
       "content": {
        "cell": "a5652370-f1f9-4b64-b5e6-9d5869e82366",
        "part": "whole"
       },
       "id": "f0051e25-adcd-4361-b7f6-d97e71c2c334"
      }
     }
    },
    "233f2e7c-f482-4e79-a356-ed9ecede9ae5": {
     "id": "233f2e7c-f482-4e79-a356-ed9ecede9ae5",
     "prev": "6e4d7fd8-9f0a-411d-9416-52f98e519749",
     "regions": {
      "239a9bd2-94b2-4e94-8bb7-59a1a2f83daa": {
       "attrs": {
        "height": 0.8,
        "width": 0.8,
        "x": 0.1,
        "y": 0.1
       },
       "content": {
        "cell": "a5fb9867-8630-4b22-aff5-8fa6d9d634ea",
        "part": "whole"
       },
       "id": "239a9bd2-94b2-4e94-8bb7-59a1a2f83daa"
      }
     }
    },
    "2758f2b8-e75c-4987-8094-083a882384f6": {
     "id": "2758f2b8-e75c-4987-8094-083a882384f6",
     "prev": "bab5a454-f4ac-43c3-b83d-c29e8f36f9f8",
     "regions": {
      "11a6fa65-c82a-4924-bd1e-a8c4539473c6": {
       "attrs": {
        "height": 0.8,
        "width": 0.8,
        "x": 0.1,
        "y": 0.1
       },
       "content": {
        "cell": "9e7248c0-f11a-4cd7-8454-3545797ad928",
        "part": "whole"
       },
       "id": "11a6fa65-c82a-4924-bd1e-a8c4539473c6"
      }
     }
    },
    "27e2acc3-d9b4-431c-8ad1-872a06af8d8b": {
     "id": "27e2acc3-d9b4-431c-8ad1-872a06af8d8b",
     "prev": "2c0ba92c-b372-4d29-9030-dc10d31b5312",
     "regions": {
      "626d7a2c-b510-4337-ae06-35fa3d5ca710": {
       "attrs": {
        "height": 0.8,
        "width": 0.8,
        "x": 0.1,
        "y": 0.1
       },
       "content": {
        "cell": "4b56ea69-b9da-428e-980e-d5c7dfedd017",
        "part": "whole"
       },
       "id": "626d7a2c-b510-4337-ae06-35fa3d5ca710"
      }
     }
    },
    "28d7e77e-5014-4078-b076-c50af5af532d": {
     "id": "28d7e77e-5014-4078-b076-c50af5af532d",
     "prev": "44f4452c-f3e8-43c3-a8de-eab5abda97a3",
     "regions": {
      "5897e24d-b94c-48e9-98ce-a34c0672472e": {
       "attrs": {
        "height": 0.8,
        "width": 0.8,
        "x": 0.1,
        "y": 0.1
       },
       "content": {
        "cell": "06ca320a-cd53-4247-abae-4ed32f3442b2",
        "part": "whole"
       },
       "id": "5897e24d-b94c-48e9-98ce-a34c0672472e"
      }
     }
    },
    "2c0ba92c-b372-4d29-9030-dc10d31b5312": {
     "id": "2c0ba92c-b372-4d29-9030-dc10d31b5312",
     "prev": "1750b204-3948-4055-961a-28e403c34d45",
     "regions": {
      "a86e4c34-f238-41be-a954-e9c9915e7595": {
       "attrs": {
        "height": 0.8,
        "width": 0.8,
        "x": 0.1,
        "y": 0.1
       },
       "content": {
        "cell": "59164e07-d021-4b2f-8dc8-c526c7e4223c",
        "part": "whole"
       },
       "id": "a86e4c34-f238-41be-a954-e9c9915e7595"
      }
     }
    },
    "33d8ca1f-2a7d-4ca5-8e8b-421b5a016874": {
     "id": "33d8ca1f-2a7d-4ca5-8e8b-421b5a016874",
     "prev": "6ecb639b-037d-4196-ac2a-a1621cb984d5",
     "regions": {
      "96971163-2db6-4981-91cf-ab893f6be265": {
       "attrs": {
        "height": 0.8,
        "width": 0.8,
        "x": 0.1,
        "y": 0.1
       },
       "content": {
        "cell": "85008295-2019-4aae-8de4-10440d7b1192",
        "part": "whole"
       },
       "id": "96971163-2db6-4981-91cf-ab893f6be265"
      }
     }
    },
    "3f660f13-9fc3-4dd7-baca-629a5a2cb147": {
     "id": "3f660f13-9fc3-4dd7-baca-629a5a2cb147",
     "prev": "508aae9e-eea9-4d73-a68a-bc66e6b9011d",
     "regions": {
      "b199f51a-d45c-44fd-ac0d-a280790e24ef": {
       "attrs": {
        "height": 0.8,
        "width": 0.8,
        "x": 0.1,
        "y": 0.1
       },
       "content": {
        "cell": "0e839e32-3dfc-4943-8fbd-edd7dbfcebcf",
        "part": "whole"
       },
       "id": "b199f51a-d45c-44fd-ac0d-a280790e24ef"
      }
     }
    },
    "3fbf2742-1eb1-4218-9a71-4a6265a07186": {
     "id": "3fbf2742-1eb1-4218-9a71-4a6265a07186",
     "prev": "33d8ca1f-2a7d-4ca5-8e8b-421b5a016874",
     "regions": {
      "585cf0ab-f9b5-4ea6-bd28-f894d75e25dc": {
       "attrs": {
        "height": 0.8,
        "width": 0.8,
        "x": 0.1,
        "y": 0.1
       },
       "content": {
        "cell": "055e5346-1aa3-48c0-9cbd-d1ddc326fe00",
        "part": "whole"
       },
       "id": "585cf0ab-f9b5-4ea6-bd28-f894d75e25dc"
      }
     }
    },
    "3fc14f55-7c07-4275-9768-f09ba7a712ab": {
     "id": "3fc14f55-7c07-4275-9768-f09ba7a712ab",
     "prev": "ecc2c9e1-d47a-4fce-bd5a-263e42e4da86",
     "regions": {
      "54c17f30-e1f8-4b63-8e55-26654c2e0059": {
       "attrs": {
        "height": 0.8,
        "width": 0.8,
        "x": 0.1,
        "y": 0.1
       },
       "content": {
        "cell": "bbde4683-adc6-4094-891a-5487f24b873e",
        "part": "whole"
       },
       "id": "54c17f30-e1f8-4b63-8e55-26654c2e0059"
      }
     }
    },
    "44f4452c-f3e8-43c3-a8de-eab5abda97a3": {
     "id": "44f4452c-f3e8-43c3-a8de-eab5abda97a3",
     "prev": "bd118997-da16-403d-94d1-51520a42f60d",
     "regions": {
      "78003ad1-ddf2-4f83-bbac-9616b40bef66": {
       "attrs": {
        "height": 0.8,
        "width": 0.8,
        "x": 0.1,
        "y": 0.1
       },
       "content": {
        "cell": "0a7c5d11-13ec-4f52-b222-c6540fcdd67c",
        "part": "whole"
       },
       "id": "78003ad1-ddf2-4f83-bbac-9616b40bef66"
      }
     }
    },
    "4c81a8ea-daa6-40f1-86dd-950ff1439354": {
     "id": "4c81a8ea-daa6-40f1-86dd-950ff1439354",
     "prev": "88b3617c-c7ca-4d60-b84c-a0c5559aa146",
     "regions": {
      "0cca0e01-2042-4b0a-87b4-3ceb1e4badcd": {
       "attrs": {
        "height": 0.8,
        "width": 0.8,
        "x": 0.1,
        "y": 0.1
       },
       "content": {
        "cell": "7b0f8df4-0484-4a23-b5fd-1ff66bd0000d",
        "part": "whole"
       },
       "id": "0cca0e01-2042-4b0a-87b4-3ceb1e4badcd"
      }
     }
    },
    "4c88b7ff-ab7b-4376-82a2-82f8fa5e18bc": {
     "id": "4c88b7ff-ab7b-4376-82a2-82f8fa5e18bc",
     "prev": "28d7e77e-5014-4078-b076-c50af5af532d",
     "regions": {
      "80232afd-a029-4d29-b2e3-d510c3fa2c97": {
       "attrs": {
        "height": 0.8,
        "width": 0.8,
        "x": 0.1,
        "y": 0.1
       },
       "content": {
        "cell": "4db463c7-773f-41ec-84a0-ece179fa37da",
        "part": "whole"
       },
       "id": "80232afd-a029-4d29-b2e3-d510c3fa2c97"
      }
     }
    },
    "4d748b62-46f4-42f4-9138-0a5600e7df2b": {
     "id": "4d748b62-46f4-42f4-9138-0a5600e7df2b",
     "prev": "bb7ec376-77bf-4dec-bee3-170160f1043c",
     "regions": {
      "bf83af59-fc65-42c6-833b-a48fef72ddbe": {
       "attrs": {
        "height": 0.8,
        "width": 0.8,
        "x": 0.1,
        "y": 0.1
       },
       "content": {
        "cell": "3a438349-5641-4df8-bdf1-a86b6ee757ab",
        "part": "source"
       },
       "id": "bf83af59-fc65-42c6-833b-a48fef72ddbe"
      }
     }
    },
    "508aae9e-eea9-4d73-a68a-bc66e6b9011d": {
     "id": "508aae9e-eea9-4d73-a68a-bc66e6b9011d",
     "prev": "ad8381ee-ae0f-4ad1-8eda-8c8e1c4fad07",
     "regions": {
      "9ba5ea72-fa33-48c3-8103-618562d679d9": {
       "attrs": {
        "height": 0.8,
        "width": 0.8,
        "x": 0.1,
        "y": 0.1
       },
       "content": {
        "cell": "1843a7c6-2730-48f9-9b35-7c7b942c6723",
        "part": "whole"
       },
       "id": "9ba5ea72-fa33-48c3-8103-618562d679d9"
      }
     }
    },
    "5124f869-6b03-4be3-81f5-55b8832cd6fb": {
     "id": "5124f869-6b03-4be3-81f5-55b8832cd6fb",
     "prev": "cebab018-f536-404d-9b6f-a7c27a37c8e1",
     "regions": {
      "2f08a369-9275-4ede-a15b-1ff231c7c60b": {
       "attrs": {
        "height": 0.8,
        "width": 0.8,
        "x": 0.1,
        "y": 0.1
       },
       "content": {
        "cell": "d557be83-a9a7-4634-a737-8174d4096889",
        "part": "whole"
       },
       "id": "2f08a369-9275-4ede-a15b-1ff231c7c60b"
      }
     }
    },
    "5aeeb9dc-f16a-4d48-955a-6ef82db4e205": {
     "id": "5aeeb9dc-f16a-4d48-955a-6ef82db4e205",
     "prev": "846cbfc3-d7b5-43c0-8dd0-149eafbcb726",
     "regions": {
      "7dbe7c5a-11f3-4a05-8458-17f35c5793a8": {
       "attrs": {
        "height": 0.8,
        "width": 0.8,
        "x": 0.1,
        "y": 0.1
       },
       "content": {
        "cell": "9d1819cb-4c08-4d0b-8cbe-d9de4ab61a0f",
        "part": "whole"
       },
       "id": "7dbe7c5a-11f3-4a05-8458-17f35c5793a8"
      }
     }
    },
    "5d0618db-2b6f-4acb-8588-a64be45a74ca": {
     "id": "5d0618db-2b6f-4acb-8588-a64be45a74ca",
     "prev": "b0ed01c6-fb32-42f0-8dbd-d71adf885c49",
     "regions": {
      "f63425fb-4081-48ec-a2a1-e26656b6ed44": {
       "attrs": {
        "height": 0.8,
        "width": 0.8,
        "x": 0.1,
        "y": 0.1
       },
       "content": {
        "cell": "d1c9ef9b-e547-4d3b-a3a4-25ca827b9e65",
        "part": "whole"
       },
       "id": "f63425fb-4081-48ec-a2a1-e26656b6ed44"
      }
     }
    },
    "5f5a20e8-9906-4ff6-97a3-890c0a93255b": {
     "id": "5f5a20e8-9906-4ff6-97a3-890c0a93255b",
     "prev": "cbf8b9b5-81a4-414b-8bd6-c356f0d16b82",
     "regions": {
      "4bc6b307-e4bf-4aad-9179-474b213b6400": {
       "attrs": {
        "height": 0.8,
        "width": 0.8,
        "x": 0.1,
        "y": 0.1
       },
       "content": {
        "cell": "cd0ce132-5f43-471c-8641-aa4ab54591a9",
        "part": "whole"
       },
       "id": "4bc6b307-e4bf-4aad-9179-474b213b6400"
      }
     }
    },
    "5f98ec70-b065-4d0f-b9a2-b1a7cfb23af1": {
     "id": "5f98ec70-b065-4d0f-b9a2-b1a7cfb23af1",
     "prev": "5f5a20e8-9906-4ff6-97a3-890c0a93255b",
     "regions": {
      "8f35d40c-5091-48e2-9c94-ac72b3877a1d": {
       "attrs": {
        "height": 0.8,
        "width": 0.8,
        "x": 0.1,
        "y": 0.1
       },
       "content": {
        "cell": "19593268-62aa-4bab-923b-2be26634bedd",
        "part": "whole"
       },
       "id": "8f35d40c-5091-48e2-9c94-ac72b3877a1d"
      }
     }
    },
    "61701e74-efb2-498b-912e-cbd50b9a851e": {
     "id": "61701e74-efb2-498b-912e-cbd50b9a851e",
     "prev": "6dc35822-1f47-4f4e-99c4-f70e5376300f",
     "regions": {
      "5c680c83-711c-4988-b62a-970397a1ec4b": {
       "attrs": {
        "height": 0.8,
        "width": 0.8,
        "x": 0.1,
        "y": 0.1
       },
       "content": {
        "cell": "f417663e-badf-45d3-8f98-0647907657de",
        "part": "whole"
       },
       "id": "5c680c83-711c-4988-b62a-970397a1ec4b"
      }
     }
    },
    "627bd4e9-dc44-4809-aa0a-0b6e4d02a767": {
     "id": "627bd4e9-dc44-4809-aa0a-0b6e4d02a767",
     "prev": "b7898dbe-5f18-4e68-83ba-7edc52e7d955",
     "regions": {
      "8a7f2a7e-0664-4d7c-a7f9-2a15b62ee93d": {
       "attrs": {
        "height": 0.8,
        "width": 0.8,
        "x": 0.1,
        "y": 0.1
       },
       "content": {
        "cell": "80b820b1-7c3b-4c96-a4a6-09b5ef00dacb",
        "part": "whole"
       },
       "id": "8a7f2a7e-0664-4d7c-a7f9-2a15b62ee93d"
      }
     }
    },
    "655c1abb-bbf7-4f69-9665-bf2d14dee3ea": {
     "id": "655c1abb-bbf7-4f69-9665-bf2d14dee3ea",
     "prev": "d628eace-996b-4d17-aeed-5cfcc5d2e979",
     "regions": {
      "cc62baa3-89fd-445e-a145-e55383c2f1a1": {
       "attrs": {
        "height": 0.8,
        "width": 0.8,
        "x": 0.1,
        "y": 0.1
       },
       "content": {
        "cell": "4726f42a-663c-4597-9eb8-ba909dcbff64",
        "part": "whole"
       },
       "id": "cc62baa3-89fd-445e-a145-e55383c2f1a1"
      }
     }
    },
    "6992f9b3-1914-459f-bcfd-b5f41ee1a69f": {
     "id": "6992f9b3-1914-459f-bcfd-b5f41ee1a69f",
     "prev": null,
     "regions": {
      "dde42ffa-f24a-4d08-8e3b-c40e44072904": {
       "attrs": {
        "height": 0.8,
        "width": 0.8,
        "x": 0.1,
        "y": 0.1
       },
       "content": {
        "cell": "b8c6c01b-a265-4aad-8613-6ee62b70c9d3",
        "part": "whole"
       },
       "id": "dde42ffa-f24a-4d08-8e3b-c40e44072904"
      }
     }
    },
    "6dc35822-1f47-4f4e-99c4-f70e5376300f": {
     "id": "6dc35822-1f47-4f4e-99c4-f70e5376300f",
     "prev": "627bd4e9-dc44-4809-aa0a-0b6e4d02a767",
     "regions": {
      "c3f98a72-0bd6-40c4-a3b5-a4d264362136": {
       "attrs": {
        "height": 0.8,
        "width": 0.8,
        "x": 0.1,
        "y": 0.1
       },
       "content": {
        "cell": "a8b4aa95-2ba3-4f09-8f65-ab45831b1108",
        "part": "whole"
       },
       "id": "c3f98a72-0bd6-40c4-a3b5-a4d264362136"
      }
     }
    },
    "6e4d7fd8-9f0a-411d-9416-52f98e519749": {
     "id": "6e4d7fd8-9f0a-411d-9416-52f98e519749",
     "prev": "dd3f23bd-448f-47dd-8ee3-3d5b1db7635b",
     "regions": {}
    },
    "6ecb639b-037d-4196-ac2a-a1621cb984d5": {
     "id": "6ecb639b-037d-4196-ac2a-a1621cb984d5",
     "prev": "8d9daa18-bf6f-48f8-a193-c5426601244b",
     "regions": {
      "c8d85ee2-7811-451c-8529-6bdce8ec6651": {
       "attrs": {
        "height": 0.8,
        "width": 0.8,
        "x": 0.1,
        "y": 0.1
       },
       "content": {
        "cell": "9737d750-04fe-4a91-933c-a799449e427e",
        "part": "whole"
       },
       "id": "c8d85ee2-7811-451c-8529-6bdce8ec6651"
      }
     }
    },
    "73cb7414-e801-4f77-a860-5670a6770f24": {
     "id": "73cb7414-e801-4f77-a860-5670a6770f24",
     "prev": "233f2e7c-f482-4e79-a356-ed9ecede9ae5",
     "regions": {
      "c5133c14-935d-48b6-b0bf-762b2e65c9d5": {
       "attrs": {
        "height": 0.8,
        "width": 0.8,
        "x": 0.1,
        "y": 0.1
       },
       "content": {
        "cell": "edf2075f-e6d6-4b99-88ea-96ba456697df",
        "part": "whole"
       },
       "id": "c5133c14-935d-48b6-b0bf-762b2e65c9d5"
      }
     }
    },
    "846cbfc3-d7b5-43c0-8dd0-149eafbcb726": {
     "id": "846cbfc3-d7b5-43c0-8dd0-149eafbcb726",
     "prev": "4c81a8ea-daa6-40f1-86dd-950ff1439354",
     "regions": {
      "59303c66-2d6f-42f1-8d35-2a9a882fb651": {
       "attrs": {
        "height": 0.8,
        "width": 0.8,
        "x": 0.1,
        "y": 0.1
       },
       "content": {
        "cell": "5fe4edf2-768e-47ef-b5e1-62f64c49ebae",
        "part": "whole"
       },
       "id": "59303c66-2d6f-42f1-8d35-2a9a882fb651"
      }
     }
    },
    "849937ae-4396-4f8f-bb05-c5d7c75bca4a": {
     "id": "849937ae-4396-4f8f-bb05-c5d7c75bca4a",
     "prev": "3fc14f55-7c07-4275-9768-f09ba7a712ab",
     "regions": {
      "abe75389-8a35-4982-b999-00eead65659a": {
       "attrs": {
        "height": 0.8,
        "width": 0.8,
        "x": 0.1,
        "y": 0.1
       },
       "content": {
        "cell": "f9399cc1-faa3-4ec2-a59d-47f60c08759a",
        "part": "whole"
       },
       "id": "abe75389-8a35-4982-b999-00eead65659a"
      }
     }
    },
    "88b3617c-c7ca-4d60-b84c-a0c5559aa146": {
     "id": "88b3617c-c7ca-4d60-b84c-a0c5559aa146",
     "prev": "e2ad3057-f9de-4212-920c-10278da5df00",
     "regions": {
      "835c16fd-4bac-4ed5-91ee-6c3758904032": {
       "attrs": {
        "height": 0.8,
        "width": 0.8,
        "x": 0.1,
        "y": 0.1
       },
       "content": {
        "cell": "51c1d5f6-31c7-4c68-b0b9-0b9d2c074d49",
        "part": "whole"
       },
       "id": "835c16fd-4bac-4ed5-91ee-6c3758904032"
      }
     }
    },
    "8d9daa18-bf6f-48f8-a193-c5426601244b": {
     "id": "8d9daa18-bf6f-48f8-a193-c5426601244b",
     "prev": "5aeeb9dc-f16a-4d48-955a-6ef82db4e205",
     "regions": {
      "78d85b20-9e2a-4b95-b00b-cb5e021efa8d": {
       "attrs": {
        "height": 0.8,
        "width": 0.8,
        "x": 0.1,
        "y": 0.1
       },
       "content": {
        "cell": "cbf6b8fd-fa7c-47ee-a453-ab971310188f",
        "part": "whole"
       },
       "id": "78d85b20-9e2a-4b95-b00b-cb5e021efa8d"
      }
     }
    },
    "922e60da-fa80-452b-8260-7c00ca4bb1f5": {
     "id": "922e60da-fa80-452b-8260-7c00ca4bb1f5",
     "prev": "5d0618db-2b6f-4acb-8588-a64be45a74ca",
     "regions": {
      "ecd7f2b6-3c5a-483d-a0d0-be98ce1b7a58": {
       "attrs": {
        "height": 0.8,
        "width": 0.8,
        "x": 0.1,
        "y": 0.1
       },
       "content": {
        "cell": "50dccd74-72ea-465f-988d-55c9d115dc20",
        "part": "whole"
       },
       "id": "ecd7f2b6-3c5a-483d-a0d0-be98ce1b7a58"
      }
     }
    },
    "9af0f417-6460-4bb7-9de1-c2e3354c72db": {
     "id": "9af0f417-6460-4bb7-9de1-c2e3354c72db",
     "prev": "eef34a4c-a48f-4a2c-baec-2f5a43ce4d65",
     "regions": {
      "335f93b0-f268-4fe8-8c7b-00d4ae2c4128": {
       "attrs": {
        "height": 0.8,
        "width": 0.8,
        "x": 0.1,
        "y": 0.1
       },
       "content": {
        "cell": "450b0475-04e8-4340-a32f-79408ca0a017",
        "part": "whole"
       },
       "id": "335f93b0-f268-4fe8-8c7b-00d4ae2c4128"
      }
     }
    },
    "a019c2ff-04f0-4074-b3ff-93d32e3fa4a6": {
     "id": "a019c2ff-04f0-4074-b3ff-93d32e3fa4a6",
     "prev": "655c1abb-bbf7-4f69-9665-bf2d14dee3ea",
     "regions": {
      "bb63487d-d9e2-4877-bacb-790a24948247": {
       "attrs": {
        "height": 0.8,
        "width": 0.8,
        "x": 0.1,
        "y": 0.1
       },
       "content": {
        "cell": "4ba39fe8-df1e-4bd5-8154-158d99afd6a5",
        "part": "whole"
       },
       "id": "bb63487d-d9e2-4877-bacb-790a24948247"
      }
     }
    },
    "a7d10056-58bb-4c47-a55a-1afbd75aec25": {
     "id": "a7d10056-58bb-4c47-a55a-1afbd75aec25",
     "prev": "2758f2b8-e75c-4987-8094-083a882384f6",
     "regions": {
      "cd41807b-7dbe-44c3-bbed-ddf908401a15": {
       "attrs": {
        "height": 0.8,
        "width": 0.8,
        "x": 0.1,
        "y": 0.1
       },
       "content": {
        "cell": "c1a4afe7-e788-495d-a691-f433a82e0e11",
        "part": "whole"
       },
       "id": "cd41807b-7dbe-44c3-bbed-ddf908401a15"
      }
     }
    },
    "ad8381ee-ae0f-4ad1-8eda-8c8e1c4fad07": {
     "id": "ad8381ee-ae0f-4ad1-8eda-8c8e1c4fad07",
     "prev": "1d0d6a75-39e7-4be5-ae4e-4152e243553a",
     "regions": {
      "7a58d25c-d8d4-4c0e-8880-fa9269ad398e": {
       "attrs": {
        "height": 0.8,
        "width": 0.8,
        "x": 0.1,
        "y": 0.1
       },
       "content": {
        "cell": "e07e5a46-5f1d-49ef-9ae7-20b944efd9fb",
        "part": "whole"
       },
       "id": "7a58d25c-d8d4-4c0e-8880-fa9269ad398e"
      }
     }
    },
    "b0ed01c6-fb32-42f0-8dbd-d71adf885c49": {
     "id": "b0ed01c6-fb32-42f0-8dbd-d71adf885c49",
     "prev": "73cb7414-e801-4f77-a860-5670a6770f24",
     "regions": {
      "bda90826-244a-46bc-b055-ce19dd08a5b9": {
       "attrs": {
        "height": 0.8,
        "width": 0.8,
        "x": 0.1,
        "y": 0.1
       },
       "content": {
        "cell": "3f5c8aae-0101-4786-a2e0-1d89997a2f8e",
        "part": "whole"
       },
       "id": "bda90826-244a-46bc-b055-ce19dd08a5b9"
      }
     }
    },
    "b7898dbe-5f18-4e68-83ba-7edc52e7d955": {
     "id": "b7898dbe-5f18-4e68-83ba-7edc52e7d955",
     "prev": "4d748b62-46f4-42f4-9138-0a5600e7df2b",
     "regions": {
      "3ebf500f-696d-44c9-8820-406bb7fc848b": {
       "attrs": {
        "height": 0.8,
        "width": 0.8,
        "x": 0.1,
        "y": 0.1
       },
       "content": {
        "cell": "af5081b7-3d9a-47f5-8dc1-69fcc57821c0",
        "part": "whole"
       },
       "id": "3ebf500f-696d-44c9-8820-406bb7fc848b"
      }
     }
    },
    "bab5a454-f4ac-43c3-b83d-c29e8f36f9f8": {
     "id": "bab5a454-f4ac-43c3-b83d-c29e8f36f9f8",
     "prev": "e5c3df08-d8a0-4ae2-9617-e744190a7c35",
     "regions": {
      "3807a6b6-c377-4c47-878f-f4c074ac429b": {
       "attrs": {
        "height": 0.8,
        "width": 0.8,
        "x": 0.1,
        "y": 0.1
       },
       "content": {
        "cell": "35cec887-bf5b-4bcd-9482-55523b6c1de6",
        "part": "whole"
       },
       "id": "3807a6b6-c377-4c47-878f-f4c074ac429b"
      }
     }
    },
    "bb7ec376-77bf-4dec-bee3-170160f1043c": {
     "id": "bb7ec376-77bf-4dec-bee3-170160f1043c",
     "prev": "f630add5-f257-42b1-882b-680cdb6a54df",
     "regions": {
      "f3bb3abf-1f11-408e-9f75-6b286beb9dd2": {
       "attrs": {
        "height": 1,
        "width": 1,
        "x": 0,
        "y": 0
       },
       "id": "f3bb3abf-1f11-408e-9f75-6b286beb9dd2"
      }
     }
    },
    "bd118997-da16-403d-94d1-51520a42f60d": {
     "id": "bd118997-da16-403d-94d1-51520a42f60d",
     "prev": "5f98ec70-b065-4d0f-b9a2-b1a7cfb23af1",
     "regions": {
      "76da41ed-2ac7-41ff-a986-c1bdbba6e578": {
       "attrs": {
        "height": 0.8,
        "width": 0.8,
        "x": 0.1,
        "y": 0.1
       },
       "content": {
        "cell": "0f8ff272-e0f6-417e-8e2e-650964663d0f",
        "part": "whole"
       },
       "id": "76da41ed-2ac7-41ff-a986-c1bdbba6e578"
      }
     }
    },
    "caaef2f2-6088-49b3-b591-d04cfb3e544c": {
     "id": "caaef2f2-6088-49b3-b591-d04cfb3e544c",
     "prev": "1987126a-5ef5-412e-9928-9c8d08045ba8",
     "regions": {
      "a61b242d-cf47-4244-961c-0bf3dc0efe72": {
       "attrs": {
        "height": 0.8,
        "width": 0.8,
        "x": 0.1,
        "y": 0.1
       },
       "content": {
        "cell": "4dfd2936-1a71-4f33-b4df-8f271e6caae4",
        "part": "whole"
       },
       "id": "a61b242d-cf47-4244-961c-0bf3dc0efe72"
      }
     }
    },
    "cad25093-0c05-4bbc-9398-d42b2a4f98a1": {
     "id": "cad25093-0c05-4bbc-9398-d42b2a4f98a1",
     "prev": "ccbf2c4f-d808-4eff-a93c-d460da364a2d",
     "regions": {
      "cc333814-9223-4442-975c-91474790d6e2": {
       "attrs": {
        "height": 0.8,
        "width": 0.8,
        "x": 0.1,
        "y": 0.1
       },
       "content": {
        "cell": "d9a2935a-ef2a-4279-a5a6-385bb10917d9",
        "part": "whole"
       },
       "id": "cc333814-9223-4442-975c-91474790d6e2"
      }
     }
    },
    "cbf8b9b5-81a4-414b-8bd6-c356f0d16b82": {
     "id": "cbf8b9b5-81a4-414b-8bd6-c356f0d16b82",
     "prev": "3fbf2742-1eb1-4218-9a71-4a6265a07186",
     "regions": {
      "be48b302-4285-4bd7-abdd-827f8e3cfe3f": {
       "attrs": {
        "height": 0.8,
        "width": 0.8,
        "x": 0.1,
        "y": 0.1
       },
       "content": {
        "cell": "600de3c9-794b-49c8-87b8-225a1c1c9851",
        "part": "whole"
       },
       "id": "be48b302-4285-4bd7-abdd-827f8e3cfe3f"
      }
     }
    },
    "ccbf2c4f-d808-4eff-a93c-d460da364a2d": {
     "id": "ccbf2c4f-d808-4eff-a93c-d460da364a2d",
     "prev": "caaef2f2-6088-49b3-b591-d04cfb3e544c",
     "regions": {
      "912ea1bf-bcdb-4f21-af48-a348ce16acb9": {
       "attrs": {
        "height": 0.8,
        "width": 0.8,
        "x": 0.1,
        "y": 0.1
       },
       "content": {
        "cell": "a2b8e702-588b-4e77-80b2-5a3848fcf2c0",
        "part": "whole"
       },
       "id": "912ea1bf-bcdb-4f21-af48-a348ce16acb9"
      }
     }
    },
    "cebab018-f536-404d-9b6f-a7c27a37c8e1": {
     "id": "cebab018-f536-404d-9b6f-a7c27a37c8e1",
     "prev": "e2dc3e5b-76e4-4f27-8a5e-8093b1c578ea",
     "regions": {
      "4b449874-e61d-46e3-8877-937ada7063c1": {
       "attrs": {
        "height": 0.8,
        "width": 0.8,
        "x": 0.1,
        "y": 0.1
       },
       "content": {
        "cell": "50715556-da1c-4494-ad0a-02a2ab103710",
        "part": "whole"
       },
       "id": "4b449874-e61d-46e3-8877-937ada7063c1"
      }
     }
    },
    "d13271a9-64b9-4c68-9bbe-90695af58672": {
     "id": "d13271a9-64b9-4c68-9bbe-90695af58672",
     "prev": "5124f869-6b03-4be3-81f5-55b8832cd6fb",
     "regions": {
      "58f95339-2e40-46d0-9cfc-eeb4542895d9": {
       "attrs": {
        "height": 0.8,
        "width": 0.8,
        "x": 0.1,
        "y": 0.1
       },
       "content": {
        "cell": "1865afa3-9b32-4bb5-83d0-ddc9c6f709a0",
        "part": "whole"
       },
       "id": "58f95339-2e40-46d0-9cfc-eeb4542895d9"
      }
     }
    },
    "d628eace-996b-4d17-aeed-5cfcc5d2e979": {
     "id": "d628eace-996b-4d17-aeed-5cfcc5d2e979",
     "layout": "grid",
     "prev": "cad25093-0c05-4bbc-9398-d42b2a4f98a1",
     "regions": {}
    },
    "dd3f23bd-448f-47dd-8ee3-3d5b1db7635b": {
     "id": "dd3f23bd-448f-47dd-8ee3-3d5b1db7635b",
     "prev": "9af0f417-6460-4bb7-9de1-c2e3354c72db",
     "regions": {
      "0032ae55-ccab-4a39-b27a-502f04a0fc6e": {
       "attrs": {
        "height": 0.8,
        "width": 0.8,
        "x": 0.1,
        "y": 0.1
       },
       "content": {
        "cell": "94a8239a-e41d-4c24-ae8d-ea3e2132a391",
        "part": "whole"
       },
       "id": "0032ae55-ccab-4a39-b27a-502f04a0fc6e"
      }
     }
    },
    "df19040a-9a49-430c-ab6a-5f81e101cb75": {
     "id": "df19040a-9a49-430c-ab6a-5f81e101cb75",
     "prev": "61701e74-efb2-498b-912e-cbd50b9a851e",
     "regions": {
      "4f401f69-65ae-46c0-b165-c3b664cece31": {
       "attrs": {
        "height": 0.8,
        "width": 0.8,
        "x": 0.1,
        "y": 0.1
       },
       "content": {
        "cell": "f3de275a-ac50-402b-a9e9-fb6f14aef20a",
        "part": "whole"
       },
       "id": "4f401f69-65ae-46c0-b165-c3b664cece31"
      }
     }
    },
    "e2ad3057-f9de-4212-920c-10278da5df00": {
     "id": "e2ad3057-f9de-4212-920c-10278da5df00",
     "prev": "df19040a-9a49-430c-ab6a-5f81e101cb75",
     "regions": {
      "76aa6de2-e5e4-45f7-a2f8-5e51b92fc31d": {
       "attrs": {
        "height": 0.8,
        "width": 0.8,
        "x": 0.1,
        "y": 0.1
       },
       "content": {
        "cell": "b1c83af0-e6ca-42cc-a0ca-50276ebe4f67",
        "part": "whole"
       },
       "id": "76aa6de2-e5e4-45f7-a2f8-5e51b92fc31d"
      }
     }
    },
    "e2dc3e5b-76e4-4f27-8a5e-8093b1c578ea": {
     "id": "e2dc3e5b-76e4-4f27-8a5e-8093b1c578ea",
     "prev": "4c88b7ff-ab7b-4376-82a2-82f8fa5e18bc",
     "regions": {
      "407e6681-74ca-4d17-901b-a8b2f39d28c7": {
       "attrs": {
        "height": 0.8,
        "width": 0.8,
        "x": 0.1,
        "y": 0.1
       },
       "content": {
        "cell": "f769cb44-ca59-43ad-a0b6-29e394f2557e",
        "part": "whole"
       },
       "id": "407e6681-74ca-4d17-901b-a8b2f39d28c7"
      }
     }
    },
    "e5c3df08-d8a0-4ae2-9617-e744190a7c35": {
     "id": "e5c3df08-d8a0-4ae2-9617-e744190a7c35",
     "prev": "3f660f13-9fc3-4dd7-baca-629a5a2cb147",
     "regions": {
      "47d173ad-cd7d-4931-87cb-eb33bd704e54": {
       "attrs": {
        "height": 0.8,
        "width": 0.8,
        "x": 0.1,
        "y": 0.1
       },
       "content": {
        "cell": "39a5aee6-7760-4a9e-a5e3-dee77330a042",
        "part": "whole"
       },
       "id": "47d173ad-cd7d-4931-87cb-eb33bd704e54"
      }
     }
    },
    "ecc2c9e1-d47a-4fce-bd5a-263e42e4da86": {
     "id": "ecc2c9e1-d47a-4fce-bd5a-263e42e4da86",
     "prev": "922e60da-fa80-452b-8260-7c00ca4bb1f5",
     "regions": {
      "af52f853-6f2a-4c63-9451-2d6c3805ad7d": {
       "attrs": {
        "height": 0.8,
        "width": 0.8,
        "x": 0.1,
        "y": 0.1
       },
       "content": {
        "cell": "d9befd83-b685-483d-b30d-2a3847948ca5",
        "part": "whole"
       },
       "id": "af52f853-6f2a-4c63-9451-2d6c3805ad7d"
      }
     }
    },
    "eef34a4c-a48f-4a2c-baec-2f5a43ce4d65": {
     "id": "eef34a4c-a48f-4a2c-baec-2f5a43ce4d65",
     "prev": "6992f9b3-1914-459f-bcfd-b5f41ee1a69f",
     "regions": {
      "0c593a45-0474-4ea8-a05d-a74d3f5648ac": {
       "attrs": {
        "height": 0.8,
        "width": 0.45,
        "x": 0.05,
        "y": 0.1
       },
       "id": "0c593a45-0474-4ea8-a05d-a74d3f5648ac"
      },
      "db851132-184c-4809-b880-6acad76c89e5": {
       "attrs": {
        "height": 0.8,
        "width": 0.45,
        "x": 0.5,
        "y": 0.1
       },
       "id": "db851132-184c-4809-b880-6acad76c89e5"
      }
     }
    },
    "f630add5-f257-42b1-882b-680cdb6a54df": {
     "id": "f630add5-f257-42b1-882b-680cdb6a54df",
     "prev": "849937ae-4396-4f8f-bb05-c5d7c75bca4a",
     "regions": {
      "33244afb-06ee-4315-b1fa-0cf05896758b": {
       "attrs": {
        "height": 0.8,
        "width": 0.8,
        "x": 0.1,
        "y": 0.1
       },
       "content": {
        "cell": "ffa06d72-354c-45f8-95d8-95d411e89091",
        "part": "whole"
       },
       "id": "33244afb-06ee-4315-b1fa-0cf05896758b"
      }
     }
    }
   },
   "themes": {
    "default": "f815d523-4a89-4455-9c42-ca45be96b867",
    "theme": {
     "f815d523-4a89-4455-9c42-ca45be96b867": {
      "backgrounds": {
       "backgroundColor": {
        "background-color": "backgroundColor",
        "id": "backgroundColor"
       }
      },
      "id": "f815d523-4a89-4455-9c42-ca45be96b867",
      "palette": {
       "backgroundColor": {
        "id": "backgroundColor",
        "rgb": [
         253,
         246,
         227
        ]
       },
       "headingColor": {
        "id": "headingColor",
        "rgb": [
         88,
         110,
         117
        ]
       },
       "linkColor": {
        "id": "linkColor",
        "rgb": [
         38,
         139,
         210
        ]
       },
       "mainColor": {
        "id": "mainColor",
        "rgb": [
         101,
         123,
         131
        ]
       }
      },
      "rules": {
       "a": {
        "color": "linkColor"
       },
       "h1": {
        "color": "headingColor",
        "font-family": "Oswald",
        "font-size": 8
       },
       "h2": {
        "color": "headingColor",
        "font-family": "Oswald",
        "font-size": 6
       },
       "h3": {
        "color": "headingColor",
        "font-family": "Oswald",
        "font-size": 4.75
       },
       "h4": {
        "color": "headingColor",
        "font-family": "Oswald",
        "font-size": 4
       },
       "h5": {
        "color": "headingColor",
        "font-family": "Oswald"
       },
       "h6": {
        "color": "headingColor",
        "font-family": "Oswald"
       },
       "h7": {
        "color": "headingColor",
        "font-family": "Oswald"
       },
       "li": {
        "color": "mainColor",
        "font-family": "Lato",
        "font-size": 6
       },
       "p": {
        "color": "mainColor",
        "font-family": "Lato",
        "font-size": 6
       }
      },
      "text-base": {
       "color": "mainColor",
       "font-family": "Lato",
       "font-size": 6
      }
     }
    }
   }
  }
 },
 "nbformat": 4,
 "nbformat_minor": 0
}
